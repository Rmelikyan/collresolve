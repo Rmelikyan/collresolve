{
 "cells": [
  {
   "cell_type": "code",
   "execution_count": 1,
   "metadata": {},
   "outputs": [],
   "source": [
    "import matplotlib.pyplot as plt\n",
    "import numpy as np\n",
    "import tqdm"
   ]
  },
  {
   "cell_type": "code",
   "execution_count": 142,
   "metadata": {},
   "outputs": [],
   "source": [
    "def outside_of_range(x, range):\n",
    "  for i, val in enumerate(x):\n",
    "    if val < range[i,0] or val > range[i,1]: # if less than min or greater than max\n",
    "      return True\n",
    "  return False\n",
    "\n",
    "def new_pos_with_priors(x, sigmas, priors):\n",
    "  new_pos = np.zeros(np.shape(x))\n",
    "  for i, pos in enumerate(x):\n",
    "    xnp1 = np.array([np.random.normal(loc, sigma) for loc, sigma in zip(pos, sigmas)])\n",
    "    while outside_of_range(xnp1, priors):\n",
    "      xnp1 = np.array([np.random.normal(loc, sigma) for loc, sigma in zip(pos, sigmas)])\n",
    "    new_pos[i] = xnp1\n",
    "  return np.array(new_pos)\n",
    "\n",
    "def MCMC_swapper(X_0, sigmas, nmax, model, betas, priors, ns = 30):\n",
    "  print(\"Swapping MCMC starting with initial guess: {} at Betas: {}\".format(X_0, betas))\n",
    "  n_betas = len(betas)\n",
    "  \n",
    "  when_swap = np.random.random(nmax) < 1/ns # choose all swapping break times\n",
    "  which_swap = np.random.randint(0, n_betas-1, sum(when_swap)) # B_i to swap\n",
    "\n",
    "  X_acc = np.zeros((n_betas, nmax, len(X_0))) # global position array\n",
    "  L_acc = np.zeros((n_betas, nmax)) # global probability array\n",
    "  N_acc = np.zeros(n_betas) # global number accepted\n",
    "  acc_rat = np.zeros((n_betas, nmax)) # global acceptance ratios\n",
    "\n",
    "  # cvar = sigmas**2*np.identity(len(X_0)) #Covariance matrix diagonalized sigmas\n",
    "\n",
    "  Xn = [X_0 for _ in range(n_betas)] # current position array\n",
    "  Ln = np.array([model(*x) for x in Xn]) # current probability array\n",
    "  log_U1 = np.log(np.random.random((nmax, n_betas))) # Log random proposal value\n",
    "  log_U2 = np.log(np.random.random(sum(when_swap))) # swap proposal values\n",
    "  n_swaps = 0\n",
    "  swaps_acc = 0\n",
    "\n",
    "  for i in tqdm.tqdm(range(nmax)):\n",
    "    Xnp1 = new_pos_with_priors(Xn, sigmas, priors) # generate array of of new pos\n",
    "    Lnp1 = [model(*x) for x in Xnp1] # compute probability at each new position\n",
    "    log_r = (Lnp1 - Ln)*betas # Log probability ratio with Betas\n",
    "    condition = log_U1[i] <= log_r # find which values have passed the proposal\n",
    "    Ln = np.where(condition, Lnp1, Ln) # update the appropriate positions\n",
    "    N_acc = np.where(condition, N_acc + 1, N_acc) # update N_acc\n",
    "    condition = (condition*np.ones(np.shape(Xnp1.T))).T # reshape condition arr\n",
    "    Xn = np.where(condition, Xnp1, Xn) # update locations\n",
    "    # swapping time\n",
    "    if when_swap[i]:\n",
    "      j = which_swap[n_swaps]\n",
    "      log_r = (betas[j+1] - betas[j])*(Ln[j] - Ln[j+1])\n",
    "      if log_U2[n_swaps] < log_r:\n",
    "        Ln[j], Ln[j+1] = Ln[j+1], Ln[j]\n",
    "        cxjp1 = Xn[j+1].copy()\n",
    "        cxj = Xn[j].copy()\n",
    "        Xn[j] = cxjp1\n",
    "        Xn[j+1] = cxj\n",
    "        swaps_acc += 1\n",
    "      n_swaps +=1\n",
    "    X_acc[:,i,:] = Xn # log results to global arrays\n",
    "    L_acc[:,i] = Ln # log results to global arrays\n",
    "    acc_rat[:,i] = N_acc/(i+1) # log results to global arrays\n",
    "\n",
    "  print(\"\\nMCMC completed\")\n",
    "  return X_acc, L_acc, acc_rat, n_swaps, swaps_acc"
   ]
  },
  {
   "cell_type": "code",
   "execution_count": 7,
   "metadata": {},
   "outputs": [],
   "source": [
    "def density(mass, radius):\n",
    "  volume = 4/3*np.pi*radius**3\n",
    "  if isinstance(radius, (int, float)):\n",
    "    return mass/volume if radius > 0 else np.inf\n",
    "  else:\n",
    "    return np.where(radius>0., mass/volume, np.inf)\n",
    "\n",
    "def mass(density, radius):\n",
    "  volume = 4/3*np.pi*radius**3\n",
    "  if isinstance(radius, (int, float)):\n",
    "    return density*volume if radius > 0 else np.inf\n",
    "  else:\n",
    "    return np.where(radius>0., density*volume, 0)\n",
    "\n",
    "def radius(mass, density):\n",
    "  volume = mass/density\n",
    "  return (3/4/np.pi*volume)**(1/3)\n",
    "\n",
    "def generalized_chi2(predictions, observations, sigmas):\n",
    "  return np.sum((np.power(np.subtract(np.transpose(predictions), observations), 2)/np.power(sigmas, 2)).T, axis=0)\n",
    "\n",
    "def pfm_small_mass_c2019(big_mass, mass_rat, big_radius, small_radius, angle, v_scale):\n",
    "  conf = collresolve.Conf()\n",
    "  collresolve.conf_unit_si(conf)\n",
    "  collresolve.conf_model(conf, collresolve.MODEL_C2019)\n",
    "  big = collresolve.Body(mass=big_mass, radius=big_radius)\n",
    "  small = collresolve.Body(mass=mass_rat*big_mass, radius=small_radius)\n",
    "  velocity = v_scale*collresolve.escape_velocity(conf, big, small)\n",
    "  collresolve.setup(conf, big, small, velocity, angle)\n",
    "  res, regime = collresolve.resolve( conf, big, small, 2, 1 )\n",
    "  big, small, debris = res\n",
    "  predictions = [small.mass]\n",
    "\n",
    "  observations = [psyche_obs['mass']]\n",
    "  sigmas = [psyche_obs_err['mass']]\n",
    "  const = np.log(1/(2*np.pi)**(len(sigmas)/2)*1/np.prod(sigmas))\n",
    "\n",
    "  chi2 = generalized_chi2(predictions, observations, sigmas)\n",
    "\n",
    "  return const - chi2/2\n",
    "\n",
    "def print_result_density(big_density, small_density, big_radius, small_radius, angle, v_scale):\n",
    "  conf = collresolve.Conf()\n",
    "  collresolve.conf_unit_si(conf)\n",
    "  collresolve.conf_model(conf, collresolve.MODEL_C2019)\n",
    "  big = collresolve.Body(mass=mass(big_density, big_radius), radius=big_radius)\n",
    "  small = collresolve.Body(mass=mass(small_density, small_radius), radius=small_radius)\n",
    "  # print('big:', big)\n",
    "  # print('small:', small)\n",
    "  velocity = v_scale*collresolve.escape_velocity(conf, big, small)\n",
    "  collresolve.setup(conf, big, small, velocity, angle)\n",
    "  res, regime = collresolve.resolve( conf, big, small, 2, 1 )\n",
    "  print( \"impact velocity = {0:.5f} m/s\".format( collresolve.impact_velocity( conf, big, small ) ) )\n",
    "  print( \"velocity ratio = {0:.2f}\".format( collresolve.impact_velocity( conf, big, small ) / collresolve.escape_velocity( conf, big, small ) ) )\n",
    "  print( \"impact angle = {0:.1f} deg\".format( np.degrees( collresolve.impact_angle( conf, big, small ) ) ) )\n",
    "  print( \"  regime =\", collresolve.regime_desc( regime ) )\n",
    "  # print('big:', res[0])\n",
    "  print('psyche: density - {:.3f}, diameter - {:.2f} km'.format(density(res[1].mass, res[1].radius), 2*res[1].radius*1e-3))\n",
    "\n",
    "def print_result_mass(big_mass, mass_rat, big_radius, small_radius, angle, v_scale):\n",
    "  conf = collresolve.Conf()\n",
    "  collresolve.conf_unit_si(conf)\n",
    "  collresolve.conf_model(conf, collresolve.MODEL_C2019)\n",
    "  big = collresolve.Body(mass=big_mass, radius=big_radius)\n",
    "  small = collresolve.Body(mass=big_mass*mass_rat, radius=small_radius)\n",
    "  velocity = v_scale*collresolve.escape_velocity(conf, big, small)\n",
    "  collresolve.setup(conf, big, small, velocity, angle)\n",
    "  res, regime = collresolve.resolve( conf, big, small, 2, 1 )\n",
    "  print( \"impact velocity = {0:.5f} m/s\".format( collresolve.impact_velocity( conf, big, small ) ) )\n",
    "  print( \"velocity ratio = {0:.2f}\".format( collresolve.impact_velocity( conf, big, small ) / collresolve.escape_velocity( conf, big, small ) ) )\n",
    "  print( \"impact angle = {0:.1f} deg\".format( np.degrees( collresolve.impact_angle( conf, big, small ) ) ) )\n",
    "  print( \"  regime =\", collresolve.regime_desc( regime ) )\n",
    "  # print('big:', res[0])\n",
    "  print('psyche: mass - {:.3e}, diameter - {:.2f} km'.format(res[1].mass, 2*res[1].radius*1e-3))"
   ]
  },
  {
   "cell_type": "code",
   "execution_count": 469,
   "metadata": {},
   "outputs": [],
   "source": []
  },
  {
   "cell_type": "code",
   "execution_count": 484,
   "metadata": {},
   "outputs": [
    {
     "data": {
      "text/plain": [
       "(-42.00879526315876, 0.017244897959183672)"
      ]
     },
     "execution_count": 484,
     "metadata": {},
     "output_type": "execute_result"
    }
   ],
   "source": [
    "predictions = [2.3e19]\n",
    "\n",
    "observations = [psyche_obs['mass']]\n",
    "sigmas = [psyche_obs_err['mass']]\n",
    "const = np.log(1/(2*np.pi)**(len(sigmas)/2)*1/np.prod(sigmas))\n",
    "\n",
    "chi2 = generalized_chi2(predictions, observations, sigmas)\n",
    "\n",
    "const, chi2/2"
   ]
  },
  {
   "cell_type": "code",
   "execution_count": 513,
   "metadata": {},
   "outputs": [],
   "source": [
    "psyche_obs = {'density':3780, 'diameter':222e3, 'mass':2.287e19}\n",
    "psyche_obs_err = {'density':340, 'diameter':4e3, 'mass':0.07e19}\n",
    "psyche_obs_units = {'density':'kg/m3', 'diameter':'m', 'mass':'kg'}\n",
    "\n",
    "priors = np.array([\n",
    "    # [2000, 6000], # Big Densities (kg/m3)\n",
    "    # [2000, 6000], # Small Densities (kg/m3)\n",
    "    [1e-3*M_earth, M_earth], # Big Mass (kg)\n",
    "    [0.01, 0.7], # Small Mass ratio\n",
    "    [500e3, 10000e3], # Big Radii (m)\n",
    "    [50e3, 1000e3], # Small Radii (m)\n",
    "    [0, np.pi/2], # angle (radians)\n",
    "    [1, 4] # impact velocity (Vesc)\n",
    "])\n",
    "# sigma = [50, 50, 100e3, 10e3, np.radians(10), 1] # rho1, rho2, r1, r2, theta, vesc\n",
    "sigma = [1e-4*M_earth, 0.03, 300e3, 50e3, np.radians(10), 0.5] # m1, m2, r1, r2, theta, vesc\n",
    "\n",
    "# Initial_guesses = [5.5e+03, 3.5e+03, 0.7e6, 1e5, np.pi/4, 3.]\n",
    "Initial_guesses = [1.1e-3*M_earth, 0.02, 0.7e6, 1e5, np.pi/3, 4.]\n",
    "\n",
    "nmax = 1000000\n",
    "betas = np.array([0.01, 0.208, 0.406, 0.604, 0.802, 1])\n",
    "# betas = np.array([0.8, 1])\n",
    "n_betas = len(betas)"
   ]
  },
  {
   "cell_type": "code",
   "execution_count": 514,
   "metadata": {},
   "outputs": [
    {
     "name": "stdout",
     "output_type": "stream",
     "text": [
      "2.165455909220518e+19 +/- 2.2724207797815176e+18\n"
     ]
    }
   ],
   "source": [
    "m_psyche = 3780*4/3*np.pi*111e3**3\n",
    "print(m_psyche, '+/-', m_psyche*np.sqrt((340/3780)**2 + (3*4e3/222e3)**2))"
   ]
  },
  {
   "cell_type": "code",
   "execution_count": 515,
   "metadata": {},
   "outputs": [
    {
     "name": "stdout",
     "output_type": "stream",
     "text": [
      "Swapping MCMC starting with initial guess: [6.5692e+21, 0.02, 700000.0, 100000.0, 1.0471975511965976, 4.0] at Betas: [0.01  0.208 0.406 0.604 0.802 1.   ]\n"
     ]
    },
    {
     "name": "stderr",
     "output_type": "stream",
     "text": [
      "100%|██████████| 1000000/1000000 [08:17<00:00, 2010.84it/s]"
     ]
    },
    {
     "name": "stdout",
     "output_type": "stream",
     "text": [
      "\n",
      "MCMC completed\n"
     ]
    },
    {
     "name": "stderr",
     "output_type": "stream",
     "text": [
      "\n"
     ]
    }
   ],
   "source": [
    "X_acc, L_acc, acc_rat, n_swaps, swaps_acc = MCMC_swapper(Initial_guesses, sigma, nmax, pfm_small_mass_c2019, betas, priors)"
   ]
  },
  {
   "cell_type": "code",
   "execution_count": 520,
   "metadata": {},
   "outputs": [
    {
     "data": {
      "text/plain": [
       "[<matplotlib.lines.Line2D at 0x403dfad90>,\n",
       " <matplotlib.lines.Line2D at 0x403dfadc0>,\n",
       " <matplotlib.lines.Line2D at 0x403dfafa0>,\n",
       " <matplotlib.lines.Line2D at 0x403e05100>,\n",
       " <matplotlib.lines.Line2D at 0x403e05220>,\n",
       " <matplotlib.lines.Line2D at 0x403e05340>]"
      ]
     },
     "execution_count": 520,
     "metadata": {},
     "output_type": "execute_result"
    },
    {
     "data": {
      "image/png": "[encoded data removed]",
      "text/plain": [
       "<Figure size 432x288 with 1 Axes>"
      ]
     },
     "metadata": {
      "needs_background": "light"
     },
     "output_type": "display_data"
    }
   ],
   "source": [
    "plt.semilogy(acc_rat[:, :].T*100)"
   ]
  },
  {
   "cell_type": "code",
   "execution_count": 517,
   "metadata": {},
   "outputs": [
    {
     "data": {
      "text/plain": [
       "[<matplotlib.lines.Line2D at 0x389aacc10>,\n",
       " <matplotlib.lines.Line2D at 0x389aacfd0>,\n",
       " <matplotlib.lines.Line2D at 0x389aac910>,\n",
       " <matplotlib.lines.Line2D at 0x389aaca30>,\n",
       " <matplotlib.lines.Line2D at 0x389aac0a0>,\n",
       " <matplotlib.lines.Line2D at 0x389aac730>]"
      ]
     },
     "execution_count": 517,
     "metadata": {},
     "output_type": "execute_result"
    },
    {
     "data": {
      "image/png": "[encoded data removed]",
      "text/plain": [
       "<Figure size 432x288 with 1 Axes>"
      ]
     },
     "metadata": {
      "needs_background": "light"
     },
     "output_type": "display_data"
    }
   ],
   "source": [
    "plt.semilogy(-L_acc.T)"
   ]
  },
  {
   "cell_type": "code",
   "execution_count": 518,
   "metadata": {},
   "outputs": [
    {
     "name": "stdout",
     "output_type": "stream",
     "text": [
      "Target Mass: 7.41e+21\n",
      "Impactor Mass Ratio: 0.012\n",
      "Target Radius: 8.27e+06\n",
      "Impactor Radius: 5.97e+05\n",
      "impact velocity = 884.40609 m/s\n",
      "velocity ratio = 2.63\n",
      "impact angle = 39.0 deg\n",
      "  regime = Hit and run\n",
      "psyche: mass - 2.287e+19, diameter - 241.48 km\n"
     ]
    }
   ],
   "source": [
    "print('Target Mass: {:.2e}\\nImpactor Mass Ratio: {:.3f}\\nTarget Radius: {:.2e}\\nImpactor Radius: {:.2e}'.format(*X_acc[-1, np.argmax(L_acc[-1]), :4]))\n",
    "print_result_mass(*X_acc[-1, np.argmax(L_acc[-1]), :])"
   ]
  },
  {
   "cell_type": "code",
   "execution_count": 521,
   "metadata": {},
   "outputs": [],
   "source": [
    "burn_ins = []\n",
    "for i in range(n_betas):\n",
    "  burn_in = 0\n",
    "  med_val = np.median(L_acc[i])\n",
    "  while L_acc[i, burn_in] < med_val:\n",
    "    burn_in +=1\n",
    "  burn_ins.append(burn_in)"
   ]
  },
  {
   "cell_type": "code",
   "execution_count": 569,
   "metadata": {},
   "outputs": [
    {
     "name": "stdout",
     "output_type": "stream",
     "text": [
      "Target Mass: 1.241\n"
     ]
    }
   ],
   "source": [
    "print('Target Mass: {:.3f}'.format(7.41e21/M_earth*1e3))"
   ]
  },
  {
   "cell_type": "code",
   "execution_count": 565,
   "metadata": {},
   "outputs": [
    {
     "data": {
      "text/plain": [
       "Text(0.5, 1.0, 'Impact Velocity')"
      ]
     },
     "execution_count": 565,
     "metadata": {},
     "output_type": "execute_result"
    },
    {
     "data": {
      "image/png": "[encoded data removed]",
      "text/plain": [
       "<Figure size 432x288 with 1 Axes>"
      ]
     },
     "metadata": {
      "needs_background": "light"
     },
     "output_type": "display_data"
    }
   ],
   "source": [
    "i=5\n",
    "# bins = np.logspace(np.log10(min(X_acc[-1, :, i])), np.log10(max(X_acc[-1, :, i])), 30)\n",
    "bins = np.linspace(min(X_acc[-1, :, i]), max(X_acc[-1, :, i]), 50)\n",
    "values, bins = np.histogram(X_acc[-1, burn_ins[-1]:, i], bins = bins, density=True)\n",
    "points = np.array([(bins[j] + bins[j+1])/2 for j in range(len(bins)-1)])\n",
    "plt.plot(points, values/max(values))\n",
    "plt.xlabel('Mutual Escape Velocity ($V_{esc}$)', fontsize = 24)\n",
    "plt.title(\"Impact Velocity\", fontsize = 24)\n"
   ]
  },
  {
   "cell_type": "code",
   "execution_count": 519,
   "metadata": {},
   "outputs": [
    {
     "data": {
      "image/png": "[encoded data removed]",
      "text/plain": [
       "<Figure size 432x288 with 1 Axes>"
      ]
     },
     "metadata": {
      "needs_background": "light"
     },
     "output_type": "display_data"
    },
    {
     "data": {
      "image/png": "[encoded data removed]",
      "text/plain": [
       "<Figure size 432x288 with 1 Axes>"
      ]
     },
     "metadata": {
      "needs_background": "light"
     },
     "output_type": "display_data"
    },
    {
     "data": {
      "image/png": "[encoded data removed]",
      "text/plain": [
       "<Figure size 432x288 with 1 Axes>"
      ]
     },
     "metadata": {
      "needs_background": "light"
     },
     "output_type": "display_data"
    },
    {
     "data": {
      "image/png": "[encoded data removed]",
      "text/plain": [
       "<Figure size 432x288 with 1 Axes>"
      ]
     },
     "metadata": {
      "needs_background": "light"
     },
     "output_type": "display_data"
    },
    {
     "data": {
      "image/png": "[encoded data removed]",
      "text/plain": [
       "<Figure size 432x288 with 1 Axes>"
      ]
     },
     "metadata": {
      "needs_background": "light"
     },
     "output_type": "display_data"
    },
    {
     "data": {
      "image/png": "[encoded data removed]",
      "text/plain": [
       "<Figure size 432x288 with 1 Axes>"
      ]
     },
     "metadata": {
      "needs_background": "light"
     },
     "output_type": "display_data"
    }
   ],
   "source": [
    "for i in range(6):\n",
    "    plt.figure()\n",
    "    # plt.scatter(range(nmax), X_acc[-1, :, i], 10); plt.show()\n",
    "    # for j in range(6):\n",
    "    #     plt.hist(X_acc[j, :, i], 25, alpha = .3)\n",
    "    bins = np.logspace(np.log10(min(X_acc[-1, :, i])), np.log10(max(X_acc[-1, :, i])), 100)\n",
    "    plt.hist(X_acc[-1, :, i], bins=bins, alpha = 1, density=True)\n",
    "    plt.show()"
   ]
  },
  {
   "cell_type": "code",
   "execution_count": 409,
   "metadata": {},
   "outputs": [
    {
     "name": "stdout",
     "output_type": "stream",
     "text": [
      "5439.889428080096\n",
      "3679.996133752986\n",
      "690007.8142934977\n",
      "102629.11370824829\n",
      "1.3543204629279004\n",
      "3.3090536290631047\n"
     ]
    }
   ],
   "source": [
    "for i in range(6):\n",
    "    values, bins = np.histogram(X_acc[-1, :, i], 25)\n",
    "    points = ([np.mean(bins[k:k+2]) for k in range(len(bins)-1)])\n",
    "    print(points[np.argmax(values)])"
   ]
  },
  {
   "cell_type": "code",
   "execution_count": 422,
   "metadata": {},
   "outputs": [
    {
     "data": {
      "text/plain": [
       "array([5.50521460e+03, 3.62767317e+03, 4.35259652e+06, 3.40880927e+05,\n",
       "       3.58017973e-01, 3.31169089e+00])"
      ]
     },
     "execution_count": 422,
     "metadata": {},
     "output_type": "execute_result"
    }
   ],
   "source": [
    "values, bins = np.histogram(X_acc[-1, :, 0], 25)\n",
    "points = np.array([np.mean(bins[k:k+2]) for k in range(len(bins)-1)])\n",
    "X_acc[-1, np.argmax(np.where(points>0, values, 0)), : ]"
   ]
  },
  {
   "cell_type": "code",
   "execution_count": 416,
   "metadata": {},
   "outputs": [
    {
     "name": "stdout",
     "output_type": "stream",
     "text": [
      "big: collresolve.Body(mass=7.485842904823395e+21, radius=690007.8142934977, pos_x=0.0, pos_y=0.0, pos_z=0.0, vel_x=0.0, vel_y=0.0, vel_z=0.0)\n",
      "small: collresolve.Body(mass=1.6662789461373565e+19, radius=102629.11370824829, pos_x=0.0, pos_y=0.0, pos_z=0.0, vel_x=0.0, vel_y=0.0, vel_z=0.0)\n",
      "impact velocity = 3719.46540 m/s\n",
      "velocity ratio = 3.31\n",
      "impact angle = 77.6 deg\n",
      "  regime = Hit and run\n",
      "psyche: density - 3101.700, diameter - 208.43 km\n"
     ]
    }
   ],
   "source": [
    "print_result(*[5439.889428080096, 3679.996133752986, 690007.8142934977, 102629.11370824829, 1.3543204629279004, 3.3090536290631047])"
   ]
  },
  {
   "cell_type": "markdown",
   "metadata": {},
   "source": [
    "# Collresolve test"
   ]
  },
  {
   "cell_type": "code",
   "execution_count": 442,
   "metadata": {},
   "outputs": [
    {
     "name": "stdout",
     "output_type": "stream",
     "text": [
      "impact velocity = nan m/s\n",
      "velocity ratio = nan\n",
      "impact angle = nan deg\n",
      "1.0 6371000.0 5513.258738589093\n",
      "0.0 3400000.0 0.0\n",
      "nan nan inf\n",
      "0.0 0.0 inf\n",
      "nan 0.0 inf\n"
     ]
    }
   ],
   "source": [
    "conf = collresolve.Conf()\n",
    "collresolve.conf_unit_m_earth(conf)\n",
    "collresolve.conf_model(conf, collresolve.MODEL_C2019)\n",
    "vel = 20.e3\n",
    "angle = np.radians(45.)\n",
    "big = collresolve.Body( mass = 1., radius = 6.371e6 )\n",
    "small = collresolve.Body( mass = 0.0, radius = 3.4e6 )\n",
    "collresolve.setup( conf, big, small, vel, angle )\n",
    "print( \"impact velocity = {0:.1f} m/s\".format( collresolve.impact_velocity( conf, big, small ) ) )\n",
    "print( \"velocity ratio = {0:.2f}\".format( collresolve.impact_velocity( conf, big, small ) / collresolve.escape_velocity( conf, big, small ) ) )\n",
    "print( \"impact angle = {0:.1f} deg\".format( np.degrees( collresolve.impact_angle( conf, big, small ) ) ) )\n",
    "res, regime = collresolve.resolve( conf, big, small, 2, 1 )\n",
    "print(big.mass, big.radius, density(big.mass*5.972e24, big.radius))\n",
    "print(small.mass, small.radius, density(small.mass*5.972e24, small.radius))\n",
    "for body in res:\n",
    "    print(body.mass, body.radius, density(body.mass*5.972e24, body.radius))"
   ]
  },
  {
   "cell_type": "code",
   "execution_count": 452,
   "metadata": {},
   "outputs": [
    {
     "data": {
      "text/plain": [
       "1.4257099802171986"
      ]
     },
     "execution_count": 452,
     "metadata": {},
     "output_type": "execute_result"
    }
   ],
   "source": [
    "3*M_earth/4/np.pi/1e8**3"
   ]
  },
  {
   "cell_type": "code",
   "execution_count": null,
   "metadata": {},
   "outputs": [],
   "source": []
  }
 ],
 "metadata": {
  "interpreter": {
   "hash": "6f0be00a9faf0b2b99176d1c1b8b6e012762d72cc9ea21341bb2d75447124aed"
  },
  "kernelspec": {
   "display_name": "Python 3.9.6 ('.venv': venv)",
   "language": "python",
   "name": "python3"
  },
  "language_info": {
   "codemirror_mode": {
    "name": "ipython",
    "version": 3
   },
   "file_extension": ".py",
   "mimetype": "text/x-python",
   "name": "python",
   "nbconvert_exporter": "python",
   "pygments_lexer": "ipython3",
   "version": "3.9.14"
  },
  "orig_nbformat": 4
 },
 "nbformat": 4,
 "nbformat_minor": 2
}
